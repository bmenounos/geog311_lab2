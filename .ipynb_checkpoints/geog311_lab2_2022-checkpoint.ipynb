{
 "cells": [
  {
   "cell_type": "markdown",
   "metadata": {},
   "source": [
    "# Geography 311, Laboratory 2 (Rheological testing)\n",
    "\n",
    "## objectives and learning outcomes\n",
    "## Due 25 January, 2022\n",
    "\n",
    "Today we will examine how sediment deforms under applied stress. As discussed in lecture, this behavior is important for understanding the overall stability of a hillslope, and how that material may continue to move downslope if failure occurs. \n",
    "\n",
    "In the first component of the laboratory exercise, we will examine how water influences rheology of fine-grained sediment. The second portion of the laboratory will examine the relation between shear stress and shear strength for a fine sand. Finally, we will compare our measurements to those collected on comparable materials.  \n",
    "\n",
    "\n",
    "Please work in groups of two to four students for parts one and two. Work independently on part three and when writing up your results. \n",
    "\n",
    "## 1. Plastic and Liquid Limits\n",
    "\n",
    "Remember back to our discussion of about rheology and the complex behavior of soils? Water, particle size, and clay type are all important factors that influence how soils deform.\n",
    "By varying the proportion of water within a given mass of soil, we can examine how its overall behavior changes. Two important limits can be defined for a given mass of soil. The plastic limit ($W_{p}$) is the point at which a material changes from a brittle\n",
    "substance to one that deforms like a plastic. $W_{p}$ is defined by the water content (percent by weight) when this transition occurs. The liquid limit ($W_{l}$) is the water content at which the material changes from a plastic substance to one that deforms like a highly viscous substance. The plasticity index ($I_{p}$) defines the range over which the material behaves as a plastic:\n",
    "\n",
    "\\begin{equation}\n",
    "I_{P}=W_{l}-W_{p}\n",
    "\\end{equation}\n",
    "\n",
    "\n",
    "Typical strengths associated with soils at their plastic limit are 110-130 $kN~m^{-2}$ while those near their liquid limit are between 1-3 $kN~m^{-2}$. These rheological limits were originally proposed by  [Atterberg](https://en.wikipedia.org/wiki/Albert_Atterberg), and  [Casagrade](https://en.wikipedia.org/wiki/Arthur_Casagrande) later refined them. \n",
    "\n",
    "## 2. Plastic Limit Determination\n",
    "\n",
    "Mink Creek Earthflow is located near Terrace, BC. It is a good example of a retrogressive failure that occurred in glaciomarine sediments. The sediments were deposited in a marine setting (fjord) during the waning phases of the Fraser Glaciation. As ice retreated, the land\n",
    "uplifted (isostatic rebound) and exposed large areas of these marine sediments. In 1994, a portion of these sediments underwent failure probably due to liquefaction and caused extensive\n",
    "retrogressive failure. We will be working with sediment obtained from  the Mink Creek earthflow.\n",
    "\n",
    "\n",
    "To determine $W_{p}$ do the following:\n",
    "\n",
    "1. Take a subsample (50- 70 g) of sieved, wetted sediment and begin to roll it over the surface of the glass to make a 'soil snake' approximately 3 mm in diameter. If the diameter is close to 3 mm, break the snake up and continue to roll again (The rolling action slowly removes water from the sample.) Continue to roll until the snake begins to crumble or split. The sample is now at the plastic limit ($W_{p}$).\n",
    "\n",
    "2. Tare a sample container and add a portion of the snake which began to crumble to the container and record the weight (tare + sample). \n",
    "\n",
    "3. Put container in drying oven. Repeat at least two more times making sure to record weights and label containers with your team's name. I will weigh containers and put recorded weights (tare + oven dry) in theGEOG311 Lab2 directory on the student drive. \n",
    "\n",
    "\n",
    "## 3. Liquid Limit Determination (Casagrande Cup)\n",
    "\n",
    "$W_{l}$ is estimated by the water content at which a 13 mm wide groove closes after dropping the sediment sample (aka a blow)  25 times over a distance of 1 cm using a Casagrande measuring device. The higher the water content, the smaller the number of blows required to cause closure of the groove by plastic deformation. However, the water content of the sample will rarely be correct to close the groove for exactly 25 blows. We therefore will record the number of blows for samples of different water content and then develop a linear model to estimate $W_{l}$. \n",
    "\n",
    "**Note: ** It is important that you complete the Casagrande analysis a number of times at different water contents in order to prevent extrapolation of $W_{l}$.\n",
    "\n",
    "<tr>\n",
    "    <td> <img src=\"cass_cup.jpg\" alt=\"Cassagrande Cup\" title=\"Cassagrande testing cup\" style=\"width: 500px;\"/> </td>\n",
    "    <td> <img src=\"liquid_limit.jpg\" alt=\"Liquid Limit\" title=\"Relation between water and number of blows\" style=\"width: 500px;\"/> </td>\n",
    " </tr>\n",
    "    \n",
    "\n",
    "1. Place a sample (about 250 g) of sieved soil into a weighing container. Slowly add water until you make a very thick paste (make sure that it is homogeneous and well mixed) and does not adhere to the sides of the dish. It should have the consistency of bread dough (you should be able to use a sample from your previous analysis).\n",
    "\n",
    "2. Verify fall distance of cup is 1 cm, and if not, set with adjusting screw (you can measure fall distance with back side of grooving tool see figure above).\n",
    "\n",
    "3. Place a portion of the soil into the cup, level, and cut a small groove into soil sample with grooving tool (2 mm wide).\n",
    "\n",
    "4. Rotate handle so that the cup drops with a frequency of two times per second. You may want to try this without a sample in the cup in order to get the feel of this.\n",
    "\n",
    "5. While rotating handle, carefully observe groove and stop test when bottom of groove closes at least 13 mm (the width of the raised portion of the grooving tool). Record number of blows and collect a sample of this material from **where the grooved edge closed** into tared container, weigh, and place in oven. Repeat steps 4-5 two or more more times adding more water to sample for each experiment. \n",
    "\n",
    "\n",
    "## 4. Direct Shear Box Test\n",
    "\n",
    "### Background\n",
    "\n",
    "During this second component of the laboratory exercise, you will determine the shear strength of sediment. The Mohr-Coulomb equation expresses the total strength (S) of unconsolidated sediment:  \n",
    "\n",
    "\\begin{equation}\n",
    "S = c + (\\sigma -\\mu)\\cdot\\tan(\\phi) \n",
    "\\end{equation}\n",
    "\n",
    "where c is the cohesion (kPa), $\\sigma$ is the normal stress (kPa), $\\mu$ is the pore water pressure (kPa), and $\\phi$ is the angle of internal friction (degrees). For drained materials $\\mu$=0. As we will see in a later laboratory exercise, slope stability analysis often require\n",
    "estimates of $\\phi$ and $c$ for a given hillslope. \n",
    "\n",
    "### Shear Box\n",
    "\n",
    "A shear box is one device that can be used to estimate $\\phi$ and $c$. As the name implies, the experiment applies a shear force ($\\tau$ when this force is expressed as a stress) to a unit of sediment or soil until the material fails. At this point $\\tau=S$. The box consists of two sections; the lower section is fastened to a stable frame. A wire is attached to the upper component of the box and a series of weights. These weights represent the shear force ($\\tau$). The experiment is run by adding various normal weight to the top of the box. The added weight (weight plus weight of box cover) is divided by the area of the box ($m^2$) to give the normal stress (kPa). The experiment is run for various levels of $\\sigma$ to determine $c$ and $\\phi$.\n",
    "\n",
    "### Procedure\n",
    "\n",
    "To complete the experiment do the following:\n",
    "\n",
    "1. Make sure that the shear box is empty.\n",
    "\n",
    "2. Place brass shim stocks (friction reduction) between edges of box so that the inside edge of the strips is flush with the inside edge of the box.\n",
    "\n",
    "3. SLOWLY add water to pail attached to cable with empty box to determine magnitude of friction (we will subtract this friction from shear stress). Once upper box begins to move, stop experiment and record weight of water+pail. \n",
    "\n",
    "4. Carefully add soil to lower half of box until level with future shear plane. You can level it with your hand but try to avoid getting soil around shims.\n",
    "\n",
    "5. Tare a beaker and fill with approximiately 1 kg of soil. Record weight. Now carefully add to upper component of box and carefully level. Record weight of lid and place on top. DO NOT PACK DOWN !\n",
    "\n",
    "6. Add water again. Upon ANY movement of box, stop test, record weight of cover and pail + water. One person should observe edge of box while other person is slowly adding water. \n",
    "\n",
    "7. Repeat experiment at least three more times increasing normal weight each time (use small bricks provided). Be sure that they sit evenly on top of cover and that soil is leveled (NOT TAMPED) before each experimental run.\n",
    "\n",
    "## Calculation and Write Up: 10 Points \n",
    "\n",
    "1. Determine c and $\\phi$ from your empirical data. \n",
    "2. Discuss sources of error in the analysis and situations when our shear box will not work. \n",
    "\n",
    "Submit graphs of your results including axes with correct units specified.  Include a table showing the slope and y-intercept values of your line of best fit and the 95% confidence intervals for these values. Go back to Lab 1 if you can't remember how to make a linear model in Python. \n",
    "\n",
    "**note:**Recall that the 95% confidence limit about the mean or y-intercept can be determined by adding or differencing ( $\\pm$ 1.96 $\\cdot$ standard error (SE))  \n",
    "\n",
    "Be sure to express $\\phi$ in degrees. To convert a slope value expressed as a fraction into degrees you need to take the arctangent of the number and multiply by 180/pi. \n",
    "\n",
    "\n",
    "## Comparison to other work:  10 Points \n",
    "\n",
    "1. The material you used in the shear box is called Ottawa Sand and, over the years, the angle of repose has been repeatedly measured by GEOG-210 students (these data are contained in the file 'repose.txt'). Remember that for unconsolidated sediments the  angle of repose ($\\alpha$) approximates $\\phi$.  Determine whether your measurement of $\\phi$ lies within the 95% confidence limit of the average.\n",
    "\n",
    "\n",
    "The file 'mink.txt'  represents a collection of geotechnical measurements for sediment samples collected from the Mink Creek Earthflow post failure **Thanks to Mr. Marten Geertsema (BC Forest Service) for providing access to the data. **. The variables (working across the columns) are: Sample depth [m] (Depth), Water content [% by weight] (W), Liquid limit ($W_{l}$), Plastic limit ($W_{p}$), Plasticity Index($I_{p}$), Activity, Sand (%),Silt (%), Clay (%), Undisturbed shear strength strength (Ushear), Remoulded shear strength (Dshear), and pore water cations, (NA, K, and Mg).\n",
    "\n",
    "\n",
    "Like $I_{p}$, activity (A) and sensitivity (S) are also important geotechnical properties of fine-grained sediment:\n",
    "\n",
    "\\begin{equation}\n",
    "A = \\frac{I_{p}}{Clay (\\%)}\n",
    "\\end{equation}\n",
    "\n",
    "and:\n",
    "\n",
    "\\begin{equation}\n",
    "S = \\frac{Ushear}{Dshear}\n",
    "\\end{equation}\n",
    "\n",
    "\n",
    "1. Determine A and S for the given samples and plot them as a function of depth. Do these  variables vary as a function of depth?  What are the mean and standard deviations of A and S? Can this clay be classified as insensitive, sensitive, or quick?\n",
    "\n",
    "2. How do your measurements (all of them as individual soil teams) of $W_{l}$, $W_{p}$, and $I_{p}$ compare to the measurements made by the geotechnical soil company. Discuss factors that might lead to observed differences.\n",
    "\n",
    "**hint:**  You need to replace the missing values in the variable 'Activity' with actual values. You first need to calculate $I_{p}$."
   ]
  },
  {
   "cell_type": "code",
   "execution_count": 1,
   "metadata": {
    "collapsed": false,
    "jupyter": {
     "outputs_hidden": false
    }
   },
   "outputs": [
    {
     "name": "stdout",
     "output_type": "stream",
     "text": [
      "Avg. Plastic limit (WIB): 18.401685307224085\n",
      "SD Plastic limit (WIB): 0.6852051951451893\n"
     ]
    },
    {
     "data": {
      "image/png": "[encoded data removed]",
      "text/plain": [
       "<Figure size 432x288 with 1 Axes>"
      ]
     },
     "metadata": {
      "needs_background": "light"
     },
     "output_type": "display_data"
    }
   ],
   "source": [
    "## import required modules\n",
    "\n",
    "import numpy as np\n",
    "import pandas as pd\n",
    "import matplotlib.pyplot as plt\n",
    "import matplotlib\n",
    "\n",
    "## Read in data file\n",
    "llpl = pd.read_csv('ll_pl_2022.csv', delimiter = ',')\n",
    "\n",
    "llpl\n",
    "\n",
    "\n",
    "## uncomment line below with the equation needed to calculate out water\n",
    "## content based on the tare and given masses in the file \n",
    "\n",
    "llpl['per_water'] = 100 - (100*(llpl['tare_dry'] - llpl['tare'])/(llpl['tare_wet'] - llpl['tare']))\n",
    "\n",
    "## estimate lp for first group \n",
    "## what does [0:2] do? It selects (slices) the first and second value\n",
    "\n",
    "print('Avg. Plastic limit (WIB):', llpl['per_water'][0:2].mean())\n",
    "print('SD Plastic limit (WIB):', llpl['per_water'][0:2].std())\n",
    "\n",
    "## what do you need to do to select the second group then?\n",
    "\n",
    "\n",
    "\n",
    "## One thing about Pandas is that is allows to regroup data by some common\n",
    "## variable. In this case by the variable 'Team'\n",
    "\n",
    "\n",
    "groups = llpl.groupby('Team')\n",
    "\n",
    "# Plot\n",
    "fig, ax = plt.subplots()\n",
    "ax.margins(0.05) # Optional, just adds 5% padding to the autoscaling\n",
    "for name, group in groups:\n",
    "    ax.semilogx(group.num_blows, group.per_water, marker='o', linestyle='', ms=8, label=name)\n",
    "plt.legend(loc='upper left')\n",
    "plt.grid(color='green')\n",
    "plt.xlim([8, 100])\n",
    "plt.xlabel('Number of blows')\n",
    "plt.ylabel('Water content (%)')\n",
    "plt.savefig('Liquid_limit_test.pdf', dpi=600)\n",
    "plt.show()\n",
    "\n",
    "## so what is the water content at the 25th blow? This is the liquid limit\n",
    "\n",
    "## you can now determine the plasticity index \n",
    "\n",
    "\n"
   ]
  },
  {
   "cell_type": "markdown",
   "metadata": {},
   "source": [
    "If you want to see the cursor for the\n",
    " x, y coordinate to get a better idea about the water content at 25 blows add this command before you make the above graph:\n",
    "\n"
   ]
  },
  {
   "cell_type": "code",
   "execution_count": 3,
   "metadata": {},
   "outputs": [
    {
     "name": "stdout",
     "output_type": "stream",
     "text": [
      "Using matplotlib backend: Qt5Agg\n"
     ]
    }
   ],
   "source": [
    "%matplotlib auto"
   ]
  },
  {
   "cell_type": "markdown",
   "metadata": {},
   "source": [
    "To switch back to have inline graphs, type:\n"
   ]
  },
  {
   "cell_type": "code",
   "execution_count": null,
   "metadata": {},
   "outputs": [],
   "source": [
    "%matplotlib inline"
   ]
  },
  {
   "cell_type": "code",
   "execution_count": 2,
   "metadata": {},
   "outputs": [],
   "source": []
  },
  {
   "cell_type": "code",
   "execution_count": null,
   "metadata": {},
   "outputs": [],
   "source": []
  }
 ],
 "metadata": {
  "anaconda-cloud": {},
  "kernelspec": {
   "display_name": "Python 3 (ipykernel)",
   "language": "python",
   "name": "python3"
  },
  "language_info": {
   "codemirror_mode": {
    "name": "ipython",
    "version": 3
   },
   "file_extension": ".py",
   "mimetype": "text/x-python",
   "name": "python",
   "nbconvert_exporter": "python",
   "pygments_lexer": "ipython3",
   "version": "3.9.7"
  },
  "latex_envs": {
   "LaTeX_envs_menu_present": true,
   "bibliofile": "biblio.bib",
   "cite_by": "apalike",
   "current_citInitial": 1,
   "eqLabelWithNumbers": true,
   "eqNumInitial": 1,
   "labels_anchors": false,
   "latex_user_defs": false,
   "report_style_numbering": false,
   "user_envs_cfg": false
  }
 },
 "nbformat": 4,
 "nbformat_minor": 4
}
