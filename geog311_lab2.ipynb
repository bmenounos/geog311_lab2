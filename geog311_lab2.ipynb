{
 "cells": [
  {
   "cell_type": "markdown",
   "metadata": {
    "collapsed": true
   },
   "source": [
    "# Geography 311, Laboratory 2 (Rheological testing)\n",
    "\n",
    "## objectives and learning outcomes\n",
    "\n",
    "Today we will examine how sediment deforms under applied stress. As discussed in lecture, this behavior is important for understanding the overall stability of a hillslope, and how that material may continue to move downslope if failure occurs. \n",
    "\n",
    "In the first component of the laboratory exercise, we will examine how water influences rheology of fine-grained sediment. The second portion of the laboratory will examine the relation between shear stress and shear strength for a fine sand. Finally, we will compare our measurements to those collected on comparable materials.  \n",
    "\n",
    "\n",
    "Please work in groups of two to four students for parts one and two. Work independently on part three and when writing up your results. \n",
    "\n",
    "## 1. Plastic and Liquid Limits\n",
    "\n",
    "Remember back to our discussion of about rheology and the complex behavior of soils? Water, particle size, and clay type are all important factors that influence how soils deform.\n",
    "By varying the proportion of water within a given mass of soil, we can examine how its overall behavior changes. Two important limits can be defined for a given mass of soil. The plastic limit ($W_{p}$) is the point at which a material changes from a brittle\n",
    "substance to one that deforms like a plastic. $W_{p}$ is defined by the water content (percent by weight) when this transition occurs. The liquid limit ($W_{l}$) is the water content at which the material changes from a plastic substance to one that deforms like a highly viscous substance. The plasticity index ($I_{p}$) defines the range over which the material behaves as a plastic:\n",
    "\n",
    "\\begin{equation}\n",
    "I_{P}=W_{l}-W_{p}\n",
    "\\end{equation}\n",
    "\n",
    "\n",
    "Typical strengths associated with soils at their plastic limit are 110-130 $kN~m^{-2}$ while those near their liquid limit are between 1-3 $kN~m^{-2}$. These rheological limits were originally proposed by  Atterberg and later defined by Casagrade, two prominent earth scientists.\n",
    "\n",
    "## 2. Plastic Limit Determination\n",
    "\n",
    "Mink Creek Earthflow is located near Terrace, BC. It is a good example of a retrogressive failure that occurred in glaciomarine sediments. The sediments were deposited in a marine setting (fjord) during the waning phases of the Fraser Glaciation. As ice retreated, the land\n",
    "uplifted (isostatic rebound) and exposed large areas of these marine sediments. In 1994, a portion of these sediments underwent failure probably due to liquefaction and caused extensive\n",
    "retrogressive failure. We will be working with sediment obtained from  the Mink Creek earthflow.\n",
    "\n",
    "\n",
    "To determine $W_{p}$ do the following:\n",
    "\n",
    "1. Take a subsample (50- 70 g) of sieved, wetted sediment and begin to roll it over the surface of the glass to make a 'soil snake' approximately 3 mm in diameter. If the diameter is close to 3 mm, break the snake up and continue to roll again (The rolling action slowly removes water from the sample.) Continue to roll until the snake begins to crumble or split. The sample is now at the plastic limit ($W_{p}$).\n",
    "\n",
    "2. Tare a sample container and add a portion of the snake which began to crumble to the container and record the weight (tare + sample). \n",
    "\n",
    "3. Put container in drying oven. Repeat at least two more times making sure to record weights and label containers with your team's name. I will weigh containers and put recorded weights (tare + oven dry) in theGEOG311 Lab2 directory on the student drive. \n",
    "\n",
    "\n",
    "## 3. Liquid Limit Determination (Casagrande Cup)\n",
    "\n",
    "$W_{l}$ is estimated by the water content at which a 13 mm wide groove closes after dropping the sediment sample (aka a blow)  25 times over a distance of 1 cm using a Casagrande measuring device. The higher the water content, the smaller the number of blows required to cause closure of the groove by plastic deformation. However, the water content of the sample will rarely be correct to close the groove for exactly 25 blows. We therefore will record the number of blows for samples of different water content and then develop a linear model to estimate $W_{l}$. \\textbf{Note: It is important that you complete the Casagrande analysis a number of times at different water contents in order to prevent extrapolation of $W_{l}$}.\n",
    "\n",
    "\\begin{figure} \n",
    "\\includegraphics[width=4in, height=4in]{cass_cup.jpg}\n",
    "\\caption{Casagrande liquid limit measuring device}\\label{casagrande}\n",
    "\\end{figure}\n",
    "\n",
    "\n",
    "1. Place a sample (about 250 g) of sieved soil into a weighing container. Slowly add water until you make a very thick paste (make sure that it is homogeneous and well mixed) and does not adhere to the sides of the dish. It should have the consistency of bread dough (you should be able to use a sample from your previous analysis).\n",
    "\n",
    "2. Verify fall distance of cup is 1 cm, and if not, set with adjusting screw (you can measure fall distance with back side of grooving tool see figure \\ref{casagrande}).\n",
    "\n",
    "3. Place a portion of the soil into the cup, level, and cut a small groove into soil sample with grooving tool (2 mm wide).\n",
    "\n",
    "4. Rotate handle so that the cup drops with a frequency of two times per second. You may want to try this without a sample in the cup in order to get the feel of this.\n",
    "\n",
    "5. While rotating handle, carefully observe groove and stop test when bottom of groove closes at least 13 mm (the width of the raised portion of the grooving tool). Record number of blows and collect a sample of this material from **where the grooved edge closed** into tared container, weigh, and place in oven. Repeat steps 4-5 two or more more times adding more water to sample for each experiment. \n",
    "\n",
    "\n"
   ]
  },
  {
   "cell_type": "code",
   "execution_count": null,
   "metadata": {
    "collapsed": true
   },
   "outputs": [],
   "source": []
  }
 ],
 "metadata": {
  "kernelspec": {
   "display_name": "Python 3",
   "language": "python",
   "name": "python3"
  },
  "language_info": {
   "codemirror_mode": {
    "name": "ipython",
    "version": 3
   },
   "file_extension": ".py",
   "mimetype": "text/x-python",
   "name": "python",
   "nbconvert_exporter": "python",
   "pygments_lexer": "ipython3",
   "version": "3.4.5"
  }
 },
 "nbformat": 4,
 "nbformat_minor": 0
}
